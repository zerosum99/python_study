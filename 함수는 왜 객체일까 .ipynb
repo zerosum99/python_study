{
 "cells": [
  {
   "cell_type": "markdown",
   "metadata": {},
   "source": [
    "# 함수는 왜 객체일까"
   ]
  },
  {
   "cell_type": "code",
   "execution_count": 1,
   "metadata": {
    "collapsed": true
   },
   "outputs": [],
   "source": [
    "def func(x,y) :\n",
    "    return x+y"
   ]
  },
  {
   "cell_type": "markdown",
   "metadata": {},
   "source": [
    "## 함수의 자료형을 조회하면 함수는 하나의 function 클래스의 인스턴스이다.\n",
    "\n",
    "    isinstance 내장함수로 조회하면 클래스로 만들어진 것을 알 수 있다.\n",
    "    "
   ]
  },
  {
   "cell_type": "code",
   "execution_count": 2,
   "metadata": {},
   "outputs": [
    {
     "data": {
      "text/plain": [
       "function"
      ]
     },
     "execution_count": 2,
     "metadata": {},
     "output_type": "execute_result"
    }
   ],
   "source": [
    "type(func)"
   ]
  },
  {
   "cell_type": "code",
   "execution_count": 3,
   "metadata": {},
   "outputs": [
    {
     "data": {
      "text/plain": [
       "True"
      ]
     },
     "execution_count": 3,
     "metadata": {},
     "output_type": "execute_result"
    }
   ],
   "source": [
    "isinstance(func, type(func))"
   ]
  },
  {
   "cell_type": "markdown",
   "metadata": {},
   "source": [
    "## 함수 내부의 속성과 메소드 확인하기\n",
    "\n",
    "    function 클래스 내부의 속성과 메소드들을 인스턴스가 사용할 수 있다. \n",
    "    \n",
    "    함수를 정의한 것은 함수 클래스의 인스턴스이고 실제 함수 클래스 내부의 속성과 메소드를 인스턴스도 그대로 사용한다.\n",
    "    "
   ]
  },
  {
   "cell_type": "code",
   "execution_count": 5,
   "metadata": {},
   "outputs": [
    {
     "name": "stdout",
     "output_type": "stream",
     "text": [
      "{'__delattr__', '__new__', '__repr__', '__le__', '__qualname__', '__code__', '__getattribute__', '__gt__', '__name__', '__doc__', '__sizeof__', '__hash__', '__init_subclass__', '__class__', '__dict__', '__module__', '__reduce_ex__', '__reduce__', '__dir__', '__ne__', '__ge__', '__subclasshook__', '__eq__', '__closure__', '__str__', '__globals__', '__format__', '__setattr__', '__lt__', '__init__', '__call__', '__annotations__', '__kwdefaults__', '__get__', '__defaults__'}\n"
     ]
    }
   ],
   "source": [
    "c = set(dir(type(func)))\n",
    "\n",
    "print(c)"
   ]
  },
  {
   "cell_type": "markdown",
   "metadata": {},
   "source": [
    "### 내부 속성에 대한 것을 집합에 넣고 차집합을 구해보면 실제 결과는 동일하므로 공집합이 된다."
   ]
  },
  {
   "cell_type": "code",
   "execution_count": 4,
   "metadata": {},
   "outputs": [
    {
     "name": "stdout",
     "output_type": "stream",
     "text": [
      "set()\n"
     ]
    }
   ],
   "source": [
    "f = set(dir(func))\n",
    "\n",
    "\n",
    "print(f - c)"
   ]
  },
  {
   "cell_type": "code",
   "execution_count": null,
   "metadata": {
    "collapsed": true
   },
   "outputs": [],
   "source": []
  }
 ],
 "metadata": {
  "kernelspec": {
   "display_name": "Python 3",
   "language": "python",
   "name": "python3"
  },
  "language_info": {
   "codemirror_mode": {
    "name": "ipython",
    "version": 3
   },
   "file_extension": ".py",
   "mimetype": "text/x-python",
   "name": "python",
   "nbconvert_exporter": "python",
   "pygments_lexer": "ipython3",
   "version": "3.6.1"
  }
 },
 "nbformat": 4,
 "nbformat_minor": 2
}
