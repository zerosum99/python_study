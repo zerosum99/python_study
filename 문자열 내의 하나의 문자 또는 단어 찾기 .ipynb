{
 "cells": [
  {
   "cell_type": "code",
   "execution_count": 42,
   "metadata": {},
   "outputs": [],
   "source": [
    "def find(word1, word2 , position=0) :\n",
    "    result = -1\n",
    "    \n",
    "    for i in range(position,len(word1)) :\n",
    "        \n",
    "       \n",
    "        if word1[i : (i+ len(word2))]  == word2 :\n",
    "            result =  i\n",
    "            break\n",
    "    return result"
   ]
  },
  {
   "cell_type": "code",
   "execution_count": 43,
   "metadata": {},
   "outputs": [
    {
     "data": {
      "text/plain": [
       "2"
      ]
     },
     "execution_count": 43,
     "metadata": {},
     "output_type": "execute_result"
    }
   ],
   "source": [
    "find(\"aaadd\", \"add\")"
   ]
  },
  {
   "cell_type": "code",
   "execution_count": 44,
   "metadata": {},
   "outputs": [
    {
     "data": {
      "text/plain": [
       "4"
      ]
     },
     "execution_count": 44,
     "metadata": {},
     "output_type": "execute_result"
    }
   ],
   "source": [
    "find(\"addition\", \"tion\")"
   ]
  },
  {
   "cell_type": "code",
   "execution_count": 45,
   "metadata": {},
   "outputs": [],
   "source": [
    "def findChar(word, letter, position=0) :\n",
    "    result = -1\n",
    "    for i in range(position,len(word)) :\n",
    "        if word[i] == letter :\n",
    "            result =  i\n",
    "            break\n",
    "    return result"
   ]
  },
  {
   "cell_type": "code",
   "execution_count": 46,
   "metadata": {},
   "outputs": [
    {
     "data": {
      "text/plain": [
       "1"
      ]
     },
     "execution_count": 46,
     "metadata": {},
     "output_type": "execute_result"
    }
   ],
   "source": [
    "findChar(\"add\", \"d\")"
   ]
  },
  {
   "cell_type": "code",
   "execution_count": 47,
   "metadata": {},
   "outputs": [
    {
     "data": {
      "text/plain": [
       "3"
      ]
     },
     "execution_count": 47,
     "metadata": {},
     "output_type": "execute_result"
    }
   ],
   "source": [
    "findChar(\"아버지가\", \"가\")"
   ]
  },
  {
   "cell_type": "code",
   "execution_count": 62,
   "metadata": {},
   "outputs": [],
   "source": [
    "def printItems2(aList, level): \n",
    "    for i in aList :\n",
    "        if level == 0 :\n",
    "            if type(i) != list :\n",
    "                print(\"level 0 \", i)\n",
    "                \n",
    "        if level == 1 :\n",
    "            if type(i) == list :\n",
    "                for j in i :\n",
    "                    if type(j) != list :\n",
    "                        print(\"level 1\", j)\n",
    "                        \n",
    "        if level == 2 :\n",
    "            if type(i) == list :\n",
    "                for j in i :\n",
    "                    if type(j) == list :\n",
    "                        for k in j :\n",
    "                            print(\"level 2\", k)"
   ]
  },
  {
   "cell_type": "code",
   "execution_count": null,
   "metadata": {},
   "outputs": [],
   "source": []
  },
  {
   "cell_type": "code",
   "execution_count": 63,
   "metadata": {},
   "outputs": [],
   "source": [
    "moBong = [\"기생충\", 2019, [\"설국열차\", 2013, [\"살인의 추억\", 2003]]]"
   ]
  },
  {
   "cell_type": "code",
   "execution_count": 64,
   "metadata": {},
   "outputs": [
    {
     "name": "stdout",
     "output_type": "stream",
     "text": [
      "level 0  기생충\n",
      "level 0  2019\n"
     ]
    }
   ],
   "source": [
    "printItems2(moBong, 0)"
   ]
  },
  {
   "cell_type": "code",
   "execution_count": 65,
   "metadata": {},
   "outputs": [
    {
     "name": "stdout",
     "output_type": "stream",
     "text": [
      "level 1 설국열차\n",
      "level 1 2013\n"
     ]
    }
   ],
   "source": [
    "printItems2(moBong, 1)"
   ]
  },
  {
   "cell_type": "code",
   "execution_count": 66,
   "metadata": {},
   "outputs": [
    {
     "name": "stdout",
     "output_type": "stream",
     "text": [
      "level 2 살인의 추억\n",
      "level 2 2003\n"
     ]
    }
   ],
   "source": [
    "printItems2(moBong, 2)"
   ]
  },
  {
   "cell_type": "code",
   "execution_count": 69,
   "metadata": {},
   "outputs": [],
   "source": [
    "def method(aList, level):\n",
    "        print(aList) \n",
    "        print(level) "
   ]
  },
  {
   "cell_type": "code",
   "execution_count": 89,
   "metadata": {},
   "outputs": [],
   "source": [
    "def method(aList, level):\n",
    "        print(aList) \n",
    "        print(level) \n",
    "\n",
    "\n",
    "def printItems2_(aList, level=0) :\n",
    " \n",
    "  for each_item in aList:\n",
    "    if not isinstance(each_item, list):\n",
    "         method(each_item, level)\n",
    "    elif isinstance(each_item, list):\n",
    "        for each_item1 in each_item : \n",
    "             if not isinstance(each_item1, list):\n",
    "                    method(each_item1, 1)\n",
    "            \n",
    "             elif isinstance(each_item1, list):\n",
    "                    for each_item2 in each_item1 : \n",
    "                        if not isinstance(each_item2, list):\n",
    "                             method(each_item2, 2)\n",
    "        "
   ]
  },
  {
   "cell_type": "code",
   "execution_count": 90,
   "metadata": {},
   "outputs": [
    {
     "name": "stdout",
     "output_type": "stream",
     "text": [
      "기생충\n",
      "0\n",
      "2019\n",
      "0\n",
      "설국열차\n",
      "1\n",
      "2013\n",
      "1\n",
      "살인의 추억\n",
      "2\n",
      "2003\n",
      "2\n"
     ]
    }
   ],
   "source": [
    "printItems2_(moBong, 0)"
   ]
  },
  {
   "cell_type": "code",
   "execution_count": null,
   "metadata": {},
   "outputs": [],
   "source": []
  }
 ],
 "metadata": {
  "kernelspec": {
   "display_name": "Python 3",
   "language": "python",
   "name": "python3"
  },
  "language_info": {
   "codemirror_mode": {
    "name": "ipython",
    "version": 3
   },
   "file_extension": ".py",
   "mimetype": "text/x-python",
   "name": "python",
   "nbconvert_exporter": "python",
   "pygments_lexer": "ipython3",
   "version": "3.7.6"
  }
 },
 "nbformat": 4,
 "nbformat_minor": 4
}
