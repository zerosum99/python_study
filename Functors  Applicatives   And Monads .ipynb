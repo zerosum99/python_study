{
 "cells": [
  {
   "cell_type": "code",
   "execution_count": 1,
   "metadata": {},
   "outputs": [
    {
     "name": "stdout",
     "output_type": "stream",
     "text": [
      "Collecting oslash\n",
      "  Downloading OSlash-0.5.1.tar.gz\n",
      "Collecting mypy-lang (from oslash)\n",
      "  Downloading mypy-lang-0.4.6.tar.gz (620kB)\n",
      "\u001b[K    100% |████████████████████████████████| 624kB 831kB/s ta 0:00:01\n",
      "\u001b[?25hBuilding wheels for collected packages: oslash, mypy-lang\n",
      "  Running setup.py bdist_wheel for oslash ... \u001b[?25ldone\n",
      "\u001b[?25h  Stored in directory: /Users/dahlmoon/Library/Caches/pip/wheels/f4/3d/fb/bb50d003ac954f24906abacdec1b15d824cadade5143a0615f\n",
      "  Running setup.py bdist_wheel for mypy-lang ... \u001b[?25ldone\n",
      "\u001b[?25h  Stored in directory: /Users/dahlmoon/Library/Caches/pip/wheels/53/5e/83/a9d6c0f96bcabf42278d518e2fd67df4f8e8536ba5e3c92b47\n",
      "Successfully built oslash mypy-lang\n",
      "Installing collected packages: mypy-lang, oslash\n",
      "Successfully installed mypy-lang-0.4.6 oslash-0.5.1\n"
     ]
    }
   ],
   "source": [
    "!pip install -U oslash"
   ]
  },
  {
   "cell_type": "code",
   "execution_count": 2,
   "metadata": {
    "collapsed": true
   },
   "outputs": [],
   "source": [
    "import oslash\n"
   ]
  },
  {
   "cell_type": "code",
   "execution_count": 7,
   "metadata": {},
   "outputs": [
    {
     "name": "stdout",
     "output_type": "stream",
     "text": [
      "Help on package oslash:\n",
      "\n",
      "NAME\n",
      "    oslash - # flake8: noqa\n",
      "\n",
      "PACKAGE CONTENTS\n",
      "    abc (package)\n",
      "    cont\n",
      "    either\n",
      "    identity\n",
      "    ioaction\n",
      "    list\n",
      "    maybe\n",
      "    monadic\n",
      "    reader\n",
      "    state\n",
      "    util (package)\n",
      "    writer\n",
      "\n",
      "SUBMODULES\n",
      "    fn\n",
      "\n",
      "DATA\n",
      "    Any = typing.Any\n",
      "\n",
      "FILE\n",
      "    /Users/dahlmoon/anaconda/lib/python3.6/site-packages/oslash/__init__.py\n",
      "\n",
      "\n"
     ]
    }
   ],
   "source": [
    "help(oslash)"
   ]
  },
  {
   "cell_type": "code",
   "execution_count": 3,
   "metadata": {},
   "outputs": [
    {
     "data": {
      "text/plain": [
       "['Any',\n",
       " 'Applicative',\n",
       " 'Callable',\n",
       " 'Functor',\n",
       " 'Get',\n",
       " 'IO',\n",
       " 'Identity',\n",
       " 'Just',\n",
       " 'Left',\n",
       " 'List',\n",
       " 'Maybe',\n",
       " 'Monad',\n",
       " 'MonadReader',\n",
       " 'MonadWriter',\n",
       " 'Monoid',\n",
       " 'Nothing',\n",
       " 'Put',\n",
       " 'ReadFile',\n",
       " 'Reader',\n",
       " 'Right',\n",
       " 'State',\n",
       " 'Writer',\n",
       " '_',\n",
       " '__builtins__',\n",
       " '__cached__',\n",
       " '__doc__',\n",
       " '__file__',\n",
       " '__loader__',\n",
       " '__name__',\n",
       " '__package__',\n",
       " '__path__',\n",
       " '__spec__',\n",
       " 'abc',\n",
       " 'compose',\n",
       " 'either',\n",
       " 'extensionmethod',\n",
       " 'fn',\n",
       " 'get_line',\n",
       " 'identity',\n",
       " 'ioaction',\n",
       " 'join',\n",
       " 'lift',\n",
       " 'list',\n",
       " 'maybe',\n",
       " 'monadic',\n",
       " 'put_line',\n",
       " 'read_file',\n",
       " 'reader',\n",
       " 'state',\n",
       " 'util',\n",
       " 'writer']"
      ]
     },
     "execution_count": 3,
     "metadata": {},
     "output_type": "execute_result"
    }
   ],
   "source": [
    "dir(oslash)"
   ]
  },
  {
   "cell_type": "code",
   "execution_count": 6,
   "metadata": {},
   "outputs": [
    {
     "data": {
      "text/plain": [
       "Just 5"
      ]
     },
     "execution_count": 6,
     "metadata": {},
     "output_type": "execute_result"
    }
   ],
   "source": [
    "oslash.Just(2).map(lambda x: x+3)"
   ]
  },
  {
   "cell_type": "code",
   "execution_count": 8,
   "metadata": {},
   "outputs": [
    {
     "name": "stdout",
     "output_type": "stream",
     "text": [
      "Help on class Just in module oslash.maybe:\n",
      "\n",
      "class Just(Maybe)\n",
      " |  A Maybe that contains a value.\n",
      " |  \n",
      " |  Represents a Maybe that contains a value (represented as Just a).\n",
      " |  \n",
      " |  Method resolution order:\n",
      " |      Just\n",
      " |      Maybe\n",
      " |      oslash.abc.monad.Monad\n",
      " |      oslash.abc.monoid.Monoid\n",
      " |      oslash.abc.applicative.Applicative\n",
      " |      oslash.abc.functor.Functor\n",
      " |      builtins.object\n",
      " |  \n",
      " |  Methods defined here:\n",
      " |  \n",
      " |  __eq__(self:'Just', other:oslash.maybe.Maybe) -> bool\n",
      " |      Return self==value.\n",
      " |  \n",
      " |  __init__(self, value)\n",
      " |      Initialize self.  See help(type(self)) for accurate signature.\n",
      " |  \n",
      " |  __str__(self) -> str\n",
      " |      Return str(self).\n",
      " |  \n",
      " |  append(self, other:oslash.maybe.Maybe) -> oslash.maybe.Maybe\n",
      " |      mappend :: m -> m -> m\n",
      " |      \n",
      " |      An associative operation\n",
      " |  \n",
      " |  apply(self, something:oslash.maybe.Maybe) -> oslash.maybe.Maybe\n",
      " |      (<*>) :: f (a -> b) -> f a -> f b.\n",
      " |      \n",
      " |      Apply (<*>) is a beefed up fmap. It takes a functor value that\n",
      " |      has a function in it and another functor, and extracts that\n",
      " |      function from the first functor and then maps it over the second\n",
      " |      one.\n",
      " |  \n",
      " |  bind(self, func:Callable[[Any], oslash.maybe.Maybe]) -> oslash.maybe.Maybe\n",
      " |      Just x >>= f = f x\n",
      " |  \n",
      " |  map(self, mapper:Callable[[Any], Any]) -> 'Just'\n",
      " |      Map a function over wrapped values.\n",
      " |      \n",
      " |      Map knows how to apply functions to values that are wrapped in\n",
      " |      a context.\n",
      " |  \n",
      " |  ----------------------------------------------------------------------\n",
      " |  Data and other attributes defined here:\n",
      " |  \n",
      " |  __abstractmethods__ = frozenset()\n",
      " |  \n",
      " |  __hash__ = None\n",
      " |  \n",
      " |  ----------------------------------------------------------------------\n",
      " |  Methods inherited from Maybe:\n",
      " |  \n",
      " |  __repr__(self) -> str\n",
      " |      Return repr(self).\n",
      " |  \n",
      " |  ----------------------------------------------------------------------\n",
      " |  Class methods inherited from Maybe:\n",
      " |  \n",
      " |  empty() -> 'Maybe' from abc.ABCMeta\n",
      " |      mempty :: m\n",
      " |      \n",
      " |      The empty element and identity of append.\n",
      " |  \n",
      " |  ----------------------------------------------------------------------\n",
      " |  Methods inherited from oslash.abc.monad.Monad:\n",
      " |  \n",
      " |  __or__(self, func:Callable[[Any], _ForwardRef('Monad')]) -> 'Monad'\n",
      " |      Use | as operator for bind.\n",
      " |      \n",
      " |      Provide the | operator instead of the Haskell >>= operator\n",
      " |  \n",
      " |  __rshift__(self, next) -> oslash.abc.monad.Monad\n",
      " |      The \"Then\" operator.\n",
      " |      \n",
      " |      Sequentially compose two monadic actions, discarding any value\n",
      " |      produced by the first, like sequencing operators (such as the\n",
      " |      semicolon) in imperative languages.\n",
      " |      \n",
      " |      Haskell: (>>) :: m a -> m b -> m b\n",
      " |  \n",
      " |  join(self) -> oslash.abc.monad.Monad\n",
      " |      join :: Monad m => m (m a) -> m a\n",
      " |      \n",
      " |      The join function is the conventional monad join operator. It is\n",
      " |      used to remove one level of monadic structure, projecting its\n",
      " |      bound argument into the outer level.\n",
      " |  \n",
      " |  lift(self, func:Callable[[Any], Any]) -> oslash.abc.monad.Monad\n",
      " |      Map function over monadic value.\n",
      " |      \n",
      " |      Takes a function and a monadic value and maps the function over the\n",
      " |      monadic value\n",
      " |      \n",
      " |      Haskell: liftM :: (Monad m) => (a -> b) -> m a -> m b\n",
      " |      \n",
      " |      This is really the same function as Functor.fmap, but is instead\n",
      " |      implemented using bind, and does not rely on us inheriting from\n",
      " |      Functor.\n",
      " |  \n",
      " |  sequence = __rshift__(self, next) -> oslash.abc.monad.Monad\n",
      " |      The \"Then\" operator.\n",
      " |      \n",
      " |      Sequentially compose two monadic actions, discarding any value\n",
      " |      produced by the first, like sequencing operators (such as the\n",
      " |      semicolon) in imperative languages.\n",
      " |      \n",
      " |      Haskell: (>>) :: m a -> m b -> m b\n",
      " |  \n",
      " |  ----------------------------------------------------------------------\n",
      " |  Class methods inherited from oslash.abc.monad.Monad:\n",
      " |  \n",
      " |  unit(value) -> 'Monad' from abc.ABCMeta\n",
      " |      Wrap a value in a default context.\n",
      " |      \n",
      " |      Haskell: return :: a -> m a .\n",
      " |      \n",
      " |      Inject a value into the monadic type. Since return is a reserved\n",
      " |      word in Python, we align with Scala and use the name unit\n",
      " |      instead.\n",
      " |  \n",
      " |  ----------------------------------------------------------------------\n",
      " |  Static methods inherited from oslash.abc.monad.Monad:\n",
      " |  \n",
      " |  compose(f:Callable[[Any], oslash.abc.monad.Monad], g:Callable[[Any], oslash.abc.monad.Monad]) -> Callable[[Any], oslash.abc.monad.Monad]\n",
      " |      Monadic compose function.\n",
      " |      \n",
      " |      Right-to-left Kleisli composition of two monadic functions.\n",
      " |      \n",
      " |      (<=<) :: Monad m => (b -> m c) -> (a -> m b) -> a -> m c\n",
      " |      f <=< g = \\x -> g x >>= f\n",
      " |  \n",
      " |  ----------------------------------------------------------------------\n",
      " |  Data descriptors inherited from oslash.abc.monad.Monad:\n",
      " |  \n",
      " |  __dict__\n",
      " |      dictionary for instance variables (if defined)\n",
      " |  \n",
      " |  __weakref__\n",
      " |      list of weak references to the object (if defined)\n",
      " |  \n",
      " |  ----------------------------------------------------------------------\n",
      " |  Methods inherited from oslash.abc.monoid.Monoid:\n",
      " |  \n",
      " |  __add__(self, other)\n",
      " |  \n",
      " |  ----------------------------------------------------------------------\n",
      " |  Class methods inherited from oslash.abc.monoid.Monoid:\n",
      " |  \n",
      " |  concat(xs) -> 'Monoid' from abc.ABCMeta\n",
      " |      mconcat :: [m] -> m\n",
      " |      \n",
      " |      Fold a list using the monoid. For most types, the default\n",
      " |      definition for mconcat will be used, but the function is\n",
      " |      included in the class definition so that an optimized version\n",
      " |      can be provided for specific types.\n",
      " |  \n",
      " |  ----------------------------------------------------------------------\n",
      " |  Methods inherited from oslash.abc.applicative.Applicative:\n",
      " |  \n",
      " |  __mul__(self, something:'Applicative') -> 'Applicative'\n",
      " |      (<*>) :: f (a -> b) -> f a -> f b.\n",
      " |      \n",
      " |      Provide the * as an infix version of apply() since we cannot\n",
      " |      represent the Haskell's <*> operator in Python.\n",
      " |  \n",
      " |  lift_a2(self, func, b)\n",
      " |      liftA2 :: (Applicative f) => (a -> b -> c) -> f a -> f b -> f c.\n",
      " |  \n",
      " |  ----------------------------------------------------------------------\n",
      " |  Class methods inherited from oslash.abc.applicative.Applicative:\n",
      " |  \n",
      " |  pure(x:Callable) -> 'Applicative' from abc.ABCMeta\n",
      " |      The Applicative functor constructor.\n",
      " |      \n",
      " |      Use pure if you're dealing with values in an applicative context\n",
      " |      (using them with <*>); otherwise, stick to the default class\n",
      " |      constructor.\n",
      " |  \n",
      " |  ----------------------------------------------------------------------\n",
      " |  Methods inherited from oslash.abc.functor.Functor:\n",
      " |  \n",
      " |  __rmod__(self, fn:Callable[[Any], Any]) -> 'Functor'\n",
      " |      Infix version of map.\n",
      " |      \n",
      " |      Haskell: <$>\n",
      " |      \n",
      " |      Example:\n",
      " |      >>> (lambda x: x+2) % Just(40)\n",
      " |      42\n",
      " |      \n",
      " |      Returns a new Functor.\n",
      " |  \n",
      " |  ----------------------------------------------------------------------\n",
      " |  Data descriptors inherited from oslash.abc.functor.Functor:\n",
      " |  \n",
      " |  value\n",
      " |      Get value of Functor.\n",
      " |      \n",
      " |      Uses map to extract the internal value of the Functor.\n",
      "\n"
     ]
    }
   ],
   "source": [
    "help(oslash.Just)"
   ]
  },
  {
   "cell_type": "code",
   "execution_count": 9,
   "metadata": {},
   "outputs": [
    {
     "name": "stdout",
     "output_type": "stream",
     "text": [
      "append\n",
      "apply\n",
      "bind\n",
      "compose\n",
      "concat\n",
      "empty\n",
      "join\n",
      "lift\n",
      "lift_a2\n",
      "map\n",
      "pure\n",
      "sequence\n",
      "unit\n",
      "value\n"
     ]
    }
   ],
   "source": [
    "for i in dir(oslash.Just) :\n",
    "    if not i.startswith(\"_\") :\n",
    "        print(i)"
   ]
  },
  {
   "cell_type": "code",
   "execution_count": 13,
   "metadata": {},
   "outputs": [
    {
     "data": {
      "text/plain": [
       "True"
      ]
     },
     "execution_count": 13,
     "metadata": {},
     "output_type": "execute_result"
    }
   ],
   "source": [
    "oslash.Just(lambda x: x+3) * oslash.Just(2) == oslash.Just(5)\n"
   ]
  },
  {
   "cell_type": "code",
   "execution_count": 11,
   "metadata": {},
   "outputs": [
    {
     "data": {
      "text/plain": [
       "Nothing"
      ]
     },
     "execution_count": 11,
     "metadata": {},
     "output_type": "execute_result"
    }
   ],
   "source": [
    "oslash.Nothing().map(lambda x: x+3)"
   ]
  },
  {
   "cell_type": "code",
   "execution_count": 12,
   "metadata": {},
   "outputs": [
    {
     "name": "stdout",
     "output_type": "stream",
     "text": [
      "append\n",
      "apply\n",
      "bind\n",
      "compose\n",
      "concat\n",
      "empty\n",
      "join\n",
      "lift\n",
      "lift_a2\n",
      "map\n",
      "pure\n",
      "sequence\n",
      "unit\n",
      "value\n"
     ]
    }
   ],
   "source": [
    "for i in dir(oslash.Nothing) :\n",
    "    if not i.startswith(\"_\") :\n",
    "        print(i)"
   ]
  },
  {
   "cell_type": "code",
   "execution_count": 14,
   "metadata": {},
   "outputs": [
    {
     "data": {
      "text/plain": [
       "(object,)"
      ]
     },
     "execution_count": 14,
     "metadata": {},
     "output_type": "execute_result"
    }
   ],
   "source": [
    "oslash.Functor.__bases__"
   ]
  },
  {
   "cell_type": "code",
   "execution_count": 15,
   "metadata": {},
   "outputs": [
    {
     "data": {
      "text/plain": [
       "(oslash.abc.monad.Monad,\n",
       " oslash.abc.monoid.Monoid,\n",
       " oslash.abc.applicative.Applicative,\n",
       " oslash.abc.functor.Functor)"
      ]
     },
     "execution_count": 15,
     "metadata": {},
     "output_type": "execute_result"
    }
   ],
   "source": [
    "oslash.Maybe.__bases__"
   ]
  },
  {
   "cell_type": "code",
   "execution_count": 20,
   "metadata": {},
   "outputs": [
    {
     "data": {
      "text/plain": [
       "(oslash.maybe.Maybe,)"
      ]
     },
     "execution_count": 20,
     "metadata": {},
     "output_type": "execute_result"
    }
   ],
   "source": [
    "oslash.Just.__bases__"
   ]
  },
  {
   "cell_type": "code",
   "execution_count": 21,
   "metadata": {},
   "outputs": [
    {
     "data": {
      "text/plain": [
       "(oslash.maybe.Maybe,)"
      ]
     },
     "execution_count": 21,
     "metadata": {},
     "output_type": "execute_result"
    }
   ],
   "source": [
    "oslash.Nothing.__bases__"
   ]
  },
  {
   "cell_type": "code",
   "execution_count": 16,
   "metadata": {},
   "outputs": [
    {
     "name": "stdout",
     "output_type": "stream",
     "text": [
      "map\n",
      "value\n"
     ]
    }
   ],
   "source": [
    "for i in dir(oslash.Functor) :\n",
    "    if not i.startswith(\"_\") :\n",
    "        print(i)"
   ]
  },
  {
   "cell_type": "code",
   "execution_count": 17,
   "metadata": {},
   "outputs": [
    {
     "name": "stdout",
     "output_type": "stream",
     "text": [
      "apply\n",
      "lift_a2\n",
      "pure\n"
     ]
    }
   ],
   "source": [
    "for i in dir(oslash.Applicative) :\n",
    "    if not i.startswith(\"_\") :\n",
    "        print(i)"
   ]
  },
  {
   "cell_type": "code",
   "execution_count": 18,
   "metadata": {},
   "outputs": [
    {
     "name": "stdout",
     "output_type": "stream",
     "text": [
      "bind\n",
      "compose\n",
      "join\n",
      "lift\n",
      "sequence\n",
      "unit\n"
     ]
    }
   ],
   "source": [
    "for i in dir(oslash.Monad) :\n",
    "    if not i.startswith(\"_\") :\n",
    "        print(i)"
   ]
  },
  {
   "cell_type": "code",
   "execution_count": 19,
   "metadata": {},
   "outputs": [
    {
     "name": "stdout",
     "output_type": "stream",
     "text": [
      "append\n",
      "concat\n",
      "empty\n"
     ]
    }
   ],
   "source": [
    "for i in dir(oslash.Monoid) :\n",
    "    if not i.startswith(\"_\") :\n",
    "        print(i)"
   ]
  },
  {
   "cell_type": "code",
   "execution_count": null,
   "metadata": {
    "collapsed": true
   },
   "outputs": [],
   "source": []
  }
 ],
 "metadata": {
  "kernelspec": {
   "display_name": "Python 3",
   "language": "python",
   "name": "python3"
  },
  "language_info": {
   "codemirror_mode": {
    "name": "ipython",
    "version": 3
   },
   "file_extension": ".py",
   "mimetype": "text/x-python",
   "name": "python",
   "nbconvert_exporter": "python",
   "pygments_lexer": "ipython3",
   "version": "3.6.1"
  }
 },
 "nbformat": 4,
 "nbformat_minor": 2
}
