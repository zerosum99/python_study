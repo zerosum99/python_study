{
 "cells": [
  {
   "cell_type": "markdown",
   "metadata": {},
   "source": [
    "## 타입을 체크해서 원소를 갯수를 처리하는 함수\n",
    "\n",
    "\n",
    "    파이썬 내부 자료형들은 대부분 collection 자료형들이다. 이 자료형을 점검할 수 있는 하나의 함수를 만들고\n",
    "    \n",
    "    내부의 원소 개수를 같이 반환하도록 만든다."
   ]
  },
  {
   "cell_type": "code",
   "execution_count": 40,
   "metadata": {
    "collapsed": true
   },
   "outputs": [],
   "source": [
    "import collections.abc as cols\n",
    "\n",
    "\n",
    "def structshape(x) :\n",
    "    a = len(x) if isinstance(x,cols.Collection) else 1\n",
    "    return a,type(x)\n"
   ]
  },
  {
   "cell_type": "code",
   "execution_count": 38,
   "metadata": {
    "collapsed": false
   },
   "outputs": [
    {
     "name": "stdout",
     "output_type": "stream",
     "text": [
      "(3, <class 'list'>)\n"
     ]
    }
   ],
   "source": [
    "t = [1,2,3]\n",
    "print(structshape(t))"
   ]
  },
  {
   "cell_type": "code",
   "execution_count": 39,
   "metadata": {
    "collapsed": false
   },
   "outputs": [
    {
     "name": "stdout",
     "output_type": "stream",
     "text": [
      "(2, <class 'dict'>)\n"
     ]
    }
   ],
   "source": [
    "t = {1:1,2:2}\n",
    "print(structshape(t))"
   ]
  },
  {
   "cell_type": "markdown",
   "metadata": {},
   "source": [
    "## 여러 변수에 Sequence 자료형 할당하기 \n",
    "\n",
    "     튜플, 문자열, 리스트 등의 자료형으로 생성된 인스턴스를 변수에 할당하기 \n",
    "     \n",
    "     Sequenc 자료형 내의 원소와 일대일로 매핑할 때는 에러 없이 처리된다."
   ]
  },
  {
   "cell_type": "code",
   "execution_count": 1,
   "metadata": {
    "collapsed": false
   },
   "outputs": [
    {
     "name": "stdout",
     "output_type": "stream",
     "text": [
      "1\n",
      "2\n",
      "3\n"
     ]
    }
   ],
   "source": [
    "[a,b,c] = (1,2,3) \n",
    "\n",
    "print(a)\n",
    "print(b)\n",
    "print(c)"
   ]
  },
  {
   "cell_type": "code",
   "execution_count": 2,
   "metadata": {
    "collapsed": false
   },
   "outputs": [
    {
     "name": "stdout",
     "output_type": "stream",
     "text": [
      "강\n",
      "아\n",
      "지\n"
     ]
    }
   ],
   "source": [
    "[a,b,c] = \"강아지\"\n",
    "\n",
    "print(a)\n",
    "print(b)\n",
    "print(c)"
   ]
  },
  {
   "cell_type": "code",
   "execution_count": 4,
   "metadata": {
    "collapsed": false
   },
   "outputs": [
    {
     "name": "stdout",
     "output_type": "stream",
     "text": [
      "{'ㅁ': 1}\n",
      "{'ㅂ': 2}\n",
      "{'ㅅ': 3}\n"
     ]
    }
   ],
   "source": [
    "[a,b,c] = [{'ㅁ':1},{\"ㅂ\":2},{\"ㅅ\":3}]\n",
    "\n",
    "print(a)\n",
    "print(b)\n",
    "print(c)"
   ]
  },
  {
   "cell_type": "markdown",
   "metadata": {},
   "source": [
    "##  변수가 원소보다 작을 경우 처리\n",
    "\n",
    "    * 를 사용해서 변수에 할당하면 매핑되고 난 나머지는 다 이곳에 묶인다.\n",
    "    "
   ]
  },
  {
   "cell_type": "code",
   "execution_count": 5,
   "metadata": {
    "collapsed": false
   },
   "outputs": [
    {
     "name": "stdout",
     "output_type": "stream",
     "text": [
      "{'ㅁ': 1}\n",
      "[{'ㅂ': 2}, {'ㅅ': 3}]\n"
     ]
    }
   ],
   "source": [
    "[a,*b] = [{'ㅁ':1},{\"ㅂ\":2},{\"ㅅ\":3}]\n",
    "\n",
    "print(a)\n",
    "print(b)"
   ]
  },
  {
   "cell_type": "code",
   "execution_count": 6,
   "metadata": {
    "collapsed": false
   },
   "outputs": [
    {
     "name": "stdout",
     "output_type": "stream",
     "text": [
      "['강', '아']\n",
      "지\n"
     ]
    }
   ],
   "source": [
    "[*a,b] = \"강아지\"\n",
    "\n",
    "print(a)\n",
    "print(b)"
   ]
  },
  {
   "cell_type": "markdown",
   "metadata": {},
   "source": [
    "## 딕셔너리와 set 은 어떻게 처리될까?\n",
    "\n",
    "    딕셔너리와 set은 해쉬로 구성되어 처리된다. 이를 변수에 할당하면 key 부분인 해쉬처리된 부분만 변수에 할당된다.\n",
    "    \n",
    "    * 를 사용해서 변수에 할당하면 매핑되고 난 나머지는 다 이곳에 묶인다"
   ]
  },
  {
   "cell_type": "code",
   "execution_count": 9,
   "metadata": {
    "collapsed": false
   },
   "outputs": [
    {
     "name": "stdout",
     "output_type": "stream",
     "text": [
      "ㅁ\n",
      "ㅂ\n",
      "ㅅ\n"
     ]
    }
   ],
   "source": [
    "[a,b,c] = list({'ㅁ':1,\"ㅂ\":2,\"ㅅ\":3})\n",
    "\n",
    "print(a)\n",
    "print(b)\n",
    "print(c)"
   ]
  },
  {
   "cell_type": "code",
   "execution_count": 10,
   "metadata": {
    "collapsed": false
   },
   "outputs": [
    {
     "name": "stdout",
     "output_type": "stream",
     "text": [
      "ㅁ\n",
      "ㅂ\n",
      "ㅅ\n"
     ]
    }
   ],
   "source": [
    "[a,b,c] = {'ㅁ':1,\"ㅂ\":2,\"ㅅ\":3}\n",
    "\n",
    "print(a)\n",
    "print(b)\n",
    "print(c)"
   ]
  },
  {
   "cell_type": "markdown",
   "metadata": {},
   "source": [
    "####  딕셔너리에서 값을 넘기려면 실제 값을 별도로 처리해서 변수에 할당해야 한다.\n",
    "\n"
   ]
  },
  {
   "cell_type": "code",
   "execution_count": 16,
   "metadata": {
    "collapsed": false
   },
   "outputs": [
    {
     "name": "stdout",
     "output_type": "stream",
     "text": [
      "1\n",
      "2\n",
      "3\n"
     ]
    }
   ],
   "source": [
    "[a,b,c] = [x for x in {'ㅁ':1,\"ㅂ\":2,\"ㅅ\":3}.values()]\n",
    "\n",
    "print(a)\n",
    "print(b)\n",
    "print(c)"
   ]
  },
  {
   "cell_type": "code",
   "execution_count": 11,
   "metadata": {
    "collapsed": false
   },
   "outputs": [
    {
     "name": "stdout",
     "output_type": "stream",
     "text": [
      "ㅁ\n",
      "['ㅂ', 'ㅅ']\n"
     ]
    }
   ],
   "source": [
    "[a,*b] = {'ㅁ':1,\"ㅂ\":2,\"ㅅ\":3}\n",
    "\n",
    "print(a)\n",
    "print(b)\n"
   ]
  },
  {
   "cell_type": "code",
   "execution_count": 12,
   "metadata": {
    "collapsed": false
   },
   "outputs": [
    {
     "name": "stdout",
     "output_type": "stream",
     "text": [
      "ㅅ\n",
      "ㅂ\n",
      "ㅁ\n"
     ]
    }
   ],
   "source": [
    "[a,b,c] = list({'ㅁ',\"ㅂ\",\"ㅅ\"})\n",
    "\n",
    "print(a)\n",
    "print(b)\n",
    "print(c)"
   ]
  },
  {
   "cell_type": "code",
   "execution_count": 13,
   "metadata": {
    "collapsed": false
   },
   "outputs": [
    {
     "name": "stdout",
     "output_type": "stream",
     "text": [
      "ㅅ\n",
      "ㅂ\n",
      "ㅁ\n"
     ]
    }
   ],
   "source": [
    "[a,b,c] = {'ㅁ',\"ㅂ\",\"ㅅ\"}\n",
    "\n",
    "print(a)\n",
    "print(b)\n",
    "print(c)"
   ]
  },
  {
   "cell_type": "markdown",
   "metadata": {},
   "source": [
    "#### 원소의 개수와 변수의 개수가 같아도 *가 붙은 변수는 리스트로 처리된다.\n",
    "\n"
   ]
  },
  {
   "cell_type": "code",
   "execution_count": 18,
   "metadata": {
    "collapsed": false
   },
   "outputs": [
    {
     "name": "stdout",
     "output_type": "stream",
     "text": [
      "ㅅ\n",
      "['ㅂ']\n",
      "ㅁ\n"
     ]
    }
   ],
   "source": [
    "a,*b,c = {'ㅁ',\"ㅂ\",\"ㅅ\"}\n",
    "\n",
    "print(a)\n",
    "print(b)\n",
    "print(c)"
   ]
  },
  {
   "cell_type": "markdown",
   "metadata": {},
   "source": [
    "## 변수 swap 하기 \n",
    "\n",
    "    파이썬에서는 실제 변수 swap이란게 없다.\n",
    "    실제는 Sequence 객체간의 변수값이 교환되는 것이다.\n",
    "    \n",
    "    파이썬은 한번 평가되면 변수에 있는 부분이 값으로 할당되므로 변수간 값교환은 한 문장으로 만들어서 처리해야 명확히 변경된다.\n",
    "    "
   ]
  },
  {
   "cell_type": "code",
   "execution_count": 28,
   "metadata": {
    "collapsed": false
   },
   "outputs": [
    {
     "name": "stdout",
     "output_type": "stream",
     "text": [
      "q  200\n",
      "a  100\n",
      "<class 'tuple'> (100, 200)\n",
      "<class 'list'> [200, 100]\n",
      "q  100\n",
      "a  200\n"
     ]
    }
   ],
   "source": [
    "a = 100\n",
    "q = 200\n",
    "\n",
    "print(\"q \", q)\n",
    "print(\"a \", a)\n",
    "\n",
    "t = a,q\n",
    "print(type(t),t)\n",
    "\n",
    "l = [q,a]\n",
    "print(type(l),l)\n",
    "\n",
    "# swap을 한 라인에 표시해서 처리해야 함\n",
    "[q,a] = a,q\n",
    "print(\"q \", q)\n",
    "print(\"a \", a)"
   ]
  },
  {
   "cell_type": "code",
   "execution_count": 27,
   "metadata": {
    "collapsed": false
   },
   "outputs": [
    {
     "name": "stdout",
     "output_type": "stream",
     "text": [
      "q  100\n",
      "a  200\n"
     ]
    }
   ],
   "source": [
    "a = 100\n",
    "q = 200\n",
    "\n",
    "temp = a\n",
    "a = q\n",
    "q = temp\n",
    "\n",
    "print(\"q \", q)\n",
    "print(\"a \", a)"
   ]
  },
  {
   "cell_type": "code",
   "execution_count": null,
   "metadata": {
    "collapsed": true
   },
   "outputs": [],
   "source": []
  }
 ],
 "metadata": {
  "kernelspec": {
   "display_name": "Python 3",
   "language": "python",
   "name": "python3"
  },
  "language_info": {
   "codemirror_mode": {
    "name": "ipython",
    "version": 3
   },
   "file_extension": ".py",
   "mimetype": "text/x-python",
   "name": "python",
   "nbconvert_exporter": "python",
   "pygments_lexer": "ipython3",
   "version": "3.6.0"
  }
 },
 "nbformat": 4,
 "nbformat_minor": 2
}
