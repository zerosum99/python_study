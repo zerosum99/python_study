{
 "cells": [
  {
   "cell_type": "markdown",
   "metadata": {},
   "source": [
    "# 1. 클래스 내부에 정의된 인수턴스 메소드에 대한 이해"
   ]
  },
  {
   "cell_type": "code",
   "execution_count": 1,
   "metadata": {
    "collapsed": true
   },
   "outputs": [],
   "source": [
    "class Klass :\n",
    "    def __init__(self,name) :\n",
    "        self.name = name\n",
    "        \n",
    "    def getname(self) :\n",
    "        return self.name"
   ]
  },
  {
   "cell_type": "markdown",
   "metadata": {},
   "source": [
    "##  파이썬 엔진에서 관리하는 타입으로 체크"
   ]
  },
  {
   "cell_type": "code",
   "execution_count": 5,
   "metadata": {},
   "outputs": [
    {
     "name": "stdout",
     "output_type": "stream",
     "text": [
      "AsyncGeneratorType\n",
      "BuiltinFunctionType\n",
      "BuiltinMethodType\n",
      "CodeType\n",
      "CoroutineType\n",
      "DynamicClassAttribute\n",
      "FrameType\n",
      "FunctionType\n",
      "GeneratorType\n",
      "GetSetDescriptorType\n",
      "LambdaType\n",
      "MappingProxyType\n",
      "MemberDescriptorType\n",
      "MethodType\n",
      "ModuleType\n",
      "SimpleNamespace\n",
      "TracebackType\n",
      "coroutine\n",
      "new_class\n",
      "prepare_class\n"
     ]
    }
   ],
   "source": [
    "import types\n",
    "\n",
    "for i in dir(types) :\n",
    "    if not i.startswith(\"_\") :\n",
    "        print(i)"
   ]
  },
  {
   "cell_type": "markdown",
   "metadata": {},
   "source": [
    "## 클래스 내의 인스턴스 메소드에 대한 타입을 확인하면 실제 함수로 인식"
   ]
  },
  {
   "cell_type": "code",
   "execution_count": 4,
   "metadata": {},
   "outputs": [
    {
     "data": {
      "text/plain": [
       "True"
      ]
     },
     "execution_count": 4,
     "metadata": {},
     "output_type": "execute_result"
    }
   ],
   "source": [
    "type(Klass.getname) == types.FunctionType"
   ]
  },
  {
   "cell_type": "markdown",
   "metadata": {},
   "source": [
    "## 인스턴스를 생성하고 인스턴스에서 메소드를 바인딩할 경우에는 함수가 메소드로 바뀐다."
   ]
  },
  {
   "cell_type": "code",
   "execution_count": 6,
   "metadata": {
    "collapsed": true
   },
   "outputs": [],
   "source": [
    "k = Klass(\"인스턴스 생성\")"
   ]
  },
  {
   "cell_type": "code",
   "execution_count": 7,
   "metadata": {},
   "outputs": [
    {
     "data": {
      "text/plain": [
       "True"
      ]
     },
     "execution_count": 7,
     "metadata": {},
     "output_type": "execute_result"
    }
   ],
   "source": [
    "type(k.getname) == types.MethodType"
   ]
  },
  {
   "cell_type": "markdown",
   "metadata": {},
   "source": [
    "## 함수와 인스턴스 메소드 내부 속성이 차이점\n",
    "\n",
    "    __self__ : 실제 인스턴스의 레퍼런스를 관리한다.\n",
    "    __func__ : 기존 함수에 대한 정보를 관리한다.\n",
    "    "
   ]
  },
  {
   "cell_type": "code",
   "execution_count": 9,
   "metadata": {},
   "outputs": [
    {
     "name": "stdout",
     "output_type": "stream",
     "text": [
      "{'__self__', '__func__'}\n"
     ]
    }
   ],
   "source": [
    "f = set(dir(Klass.getname))\n",
    "\n",
    "m = set(dir(k.getname))\n",
    "\n",
    "print(m - f)"
   ]
  },
  {
   "cell_type": "code",
   "execution_count": 10,
   "metadata": {},
   "outputs": [
    {
     "name": "stdout",
     "output_type": "stream",
     "text": [
      "True\n"
     ]
    }
   ],
   "source": [
    "print(k == k.getname.__self__)"
   ]
  },
  {
   "cell_type": "code",
   "execution_count": 11,
   "metadata": {},
   "outputs": [
    {
     "name": "stdout",
     "output_type": "stream",
     "text": [
      "getname\n"
     ]
    }
   ],
   "source": [
    "print(k.getname.__func__.__name__)"
   ]
  },
  {
   "cell_type": "markdown",
   "metadata": {},
   "source": [
    "#  2. 클래스 내부의 클래스 메소드에 대한 이해"
   ]
  },
  {
   "cell_type": "code",
   "execution_count": 20,
   "metadata": {
    "collapsed": true
   },
   "outputs": [],
   "source": [
    "class Klass_ :\n",
    "    name = \"클래스 속성\"\n",
    "    def __init__(self,name) :\n",
    "        self.name = name\n",
    "        \n",
    "    @classmethod\n",
    "    def getname(cls) :\n",
    "        return cls.name"
   ]
  },
  {
   "cell_type": "code",
   "execution_count": 21,
   "metadata": {},
   "outputs": [],
   "source": [
    "k = Klass_(\"인스턴스 속성\")"
   ]
  },
  {
   "cell_type": "code",
   "execution_count": 22,
   "metadata": {},
   "outputs": [
    {
     "data": {
      "text/plain": [
       "<bound method Klass_.getname of <class '__main__.Klass_'>>"
      ]
     },
     "execution_count": 22,
     "metadata": {},
     "output_type": "execute_result"
    }
   ],
   "source": [
    "k.getname"
   ]
  },
  {
   "cell_type": "markdown",
   "metadata": {},
   "source": [
    "## 클래스 메소드에 대한 내부 정보를 확인\n",
    "\n",
    "    __self__, __func__이 존재하는 것을 알 수 있다.\n",
    "    "
   ]
  },
  {
   "cell_type": "code",
   "execution_count": 26,
   "metadata": {},
   "outputs": [
    {
     "name": "stdout",
     "output_type": "stream",
     "text": [
      "<bound method Klass_.getname of <class '__main__.Klass_'>>\n",
      "True\n"
     ]
    }
   ],
   "source": [
    "print(Klass_.getname)\n",
    "\n",
    "print(type(Klass_.getname) == types.MethodType)"
   ]
  },
  {
   "cell_type": "code",
   "execution_count": 24,
   "metadata": {},
   "outputs": [
    {
     "data": {
      "text/plain": [
       "['__call__',\n",
       " '__class__',\n",
       " '__delattr__',\n",
       " '__dir__',\n",
       " '__doc__',\n",
       " '__eq__',\n",
       " '__format__',\n",
       " '__func__',\n",
       " '__ge__',\n",
       " '__get__',\n",
       " '__getattribute__',\n",
       " '__gt__',\n",
       " '__hash__',\n",
       " '__init__',\n",
       " '__init_subclass__',\n",
       " '__le__',\n",
       " '__lt__',\n",
       " '__ne__',\n",
       " '__new__',\n",
       " '__reduce__',\n",
       " '__reduce_ex__',\n",
       " '__repr__',\n",
       " '__self__',\n",
       " '__setattr__',\n",
       " '__sizeof__',\n",
       " '__str__',\n",
       " '__subclasshook__']"
      ]
     },
     "execution_count": 24,
     "metadata": {},
     "output_type": "execute_result"
    }
   ],
   "source": [
    "dir(Klass_.getname)"
   ]
  },
  {
   "cell_type": "markdown",
   "metadata": {},
   "source": [
    "# 3. 클래스 내의 정적메소드에 대해 확인하기"
   ]
  },
  {
   "cell_type": "code",
   "execution_count": 27,
   "metadata": {
    "collapsed": true
   },
   "outputs": [],
   "source": [
    "class Static :\n",
    "    def __init__(self,name) :\n",
    "        self.name = name\n",
    "        \n",
    "    @staticmethod\n",
    "    def getname(obj) :\n",
    "        return obj.name\n",
    "        "
   ]
  },
  {
   "cell_type": "markdown",
   "metadata": {},
   "source": [
    "## 정적 메소드는 기본적으로 함수로 인식한다."
   ]
  },
  {
   "cell_type": "code",
   "execution_count": 29,
   "metadata": {},
   "outputs": [
    {
     "name": "stdout",
     "output_type": "stream",
     "text": [
      "True\n",
      "False\n"
     ]
    }
   ],
   "source": [
    "import types\n",
    "\n",
    "print(type(Static.getname) == types.FunctionType)\n",
    "print(type(Static.getname) == types.MethodType)"
   ]
  },
  {
   "cell_type": "code",
   "execution_count": 33,
   "metadata": {},
   "outputs": [
    {
     "name": "stdout",
     "output_type": "stream",
     "text": [
      "True\n",
      "False\n"
     ]
    }
   ],
   "source": [
    "s = Static(\"인스턴스 생성\")\n",
    "\n",
    "print(type(s.getname) == types.FunctionType)\n",
    "print(type(s.getname) == types.MethodType)\n"
   ]
  },
  {
   "cell_type": "markdown",
   "metadata": {},
   "source": [
    "## 정적 메소드에 들어가는 인자는 전부 넣어줘야 한다,"
   ]
  },
  {
   "cell_type": "code",
   "execution_count": 32,
   "metadata": {},
   "outputs": [
    {
     "name": "stdout",
     "output_type": "stream",
     "text": [
      "인스턴스 생성\n",
      "인스턴스 생성\n"
     ]
    }
   ],
   "source": [
    "print(s.getname(s))\n",
    "print(Static.getname(s))"
   ]
  },
  {
   "cell_type": "code",
   "execution_count": null,
   "metadata": {
    "collapsed": true
   },
   "outputs": [],
   "source": []
  }
 ],
 "metadata": {
  "kernelspec": {
   "display_name": "Python 3",
   "language": "python",
   "name": "python3"
  },
  "language_info": {
   "codemirror_mode": {
    "name": "ipython",
    "version": 3
   },
   "file_extension": ".py",
   "mimetype": "text/x-python",
   "name": "python",
   "nbconvert_exporter": "python",
   "pygments_lexer": "ipython3",
   "version": "3.6.1"
  }
 },
 "nbformat": 4,
 "nbformat_minor": 2
}
