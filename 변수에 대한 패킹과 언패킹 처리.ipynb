{
 "cells": [
  {
   "cell_type": "markdown",
   "metadata": {},
   "source": [
    "## 여러 변수에 Sequence 자료형 할당하기 \n",
    "\n",
    "     튜플, 문자열, 리스트 등의 자료형으로 생성된 인스턴스를 변수에 할당하기 \n",
    "     \n",
    "     Sequenc 자료형 내의 원소와 일대일로 매핑할 때는 에러 없이 처리된다."
   ]
  },
  {
   "cell_type": "code",
   "execution_count": 1,
   "metadata": {
    "collapsed": false
   },
   "outputs": [
    {
     "name": "stdout",
     "output_type": "stream",
     "text": [
      "1\n",
      "2\n",
      "3\n"
     ]
    }
   ],
   "source": [
    "[a,b,c] = (1,2,3) \n",
    "\n",
    "print(a)\n",
    "print(b)\n",
    "print(c)"
   ]
  },
  {
   "cell_type": "code",
   "execution_count": 2,
   "metadata": {
    "collapsed": false
   },
   "outputs": [
    {
     "name": "stdout",
     "output_type": "stream",
     "text": [
      "강\n",
      "아\n",
      "지\n"
     ]
    }
   ],
   "source": [
    "[a,b,c] = \"강아지\"\n",
    "\n",
    "print(a)\n",
    "print(b)\n",
    "print(c)"
   ]
  },
  {
   "cell_type": "code",
   "execution_count": 4,
   "metadata": {
    "collapsed": false
   },
   "outputs": [
    {
     "name": "stdout",
     "output_type": "stream",
     "text": [
      "{'ㅁ': 1}\n",
      "{'ㅂ': 2}\n",
      "{'ㅅ': 3}\n"
     ]
    }
   ],
   "source": [
    "[a,b,c] = [{'ㅁ':1},{\"ㅂ\":2},{\"ㅅ\":3}]\n",
    "\n",
    "print(a)\n",
    "print(b)\n",
    "print(c)"
   ]
  },
  {
   "cell_type": "markdown",
   "metadata": {},
   "source": [
    "##  변수가 원소보다 작을 경우 처리\n",
    "\n",
    "    * 를 사용해서 변수에 할당하면 매핑되고 난 나머지는 다 이곳에 묶인다.\n",
    "    "
   ]
  },
  {
   "cell_type": "code",
   "execution_count": 5,
   "metadata": {
    "collapsed": false
   },
   "outputs": [
    {
     "name": "stdout",
     "output_type": "stream",
     "text": [
      "{'ㅁ': 1}\n",
      "[{'ㅂ': 2}, {'ㅅ': 3}]\n"
     ]
    }
   ],
   "source": [
    "[a,*b] = [{'ㅁ':1},{\"ㅂ\":2},{\"ㅅ\":3}]\n",
    "\n",
    "print(a)\n",
    "print(b)"
   ]
  },
  {
   "cell_type": "code",
   "execution_count": 6,
   "metadata": {
    "collapsed": false
   },
   "outputs": [
    {
     "name": "stdout",
     "output_type": "stream",
     "text": [
      "['강', '아']\n",
      "지\n"
     ]
    }
   ],
   "source": [
    "[*a,b] = \"강아지\"\n",
    "\n",
    "print(a)\n",
    "print(b)"
   ]
  },
  {
   "cell_type": "markdown",
   "metadata": {},
   "source": [
    "## 딕셔너리와 set 은 어떻게 처리될까?\n",
    "\n",
    "    딕셔너리와 set은 해쉬로 구성되어 처리된다. 이를 변수에 할당하면 key 부분인 해쉬처리된 부분만 변수에 할당된다.\n",
    "    \n",
    "    * 를 사용해서 변수에 할당하면 매핑되고 난 나머지는 다 이곳에 묶인다"
   ]
  },
  {
   "cell_type": "code",
   "execution_count": 9,
   "metadata": {
    "collapsed": false
   },
   "outputs": [
    {
     "name": "stdout",
     "output_type": "stream",
     "text": [
      "ㅁ\n",
      "ㅂ\n",
      "ㅅ\n"
     ]
    }
   ],
   "source": [
    "[a,b,c] = list({'ㅁ':1,\"ㅂ\":2,\"ㅅ\":3})\n",
    "\n",
    "print(a)\n",
    "print(b)\n",
    "print(c)"
   ]
  },
  {
   "cell_type": "code",
   "execution_count": 10,
   "metadata": {
    "collapsed": false
   },
   "outputs": [
    {
     "name": "stdout",
     "output_type": "stream",
     "text": [
      "ㅁ\n",
      "ㅂ\n",
      "ㅅ\n"
     ]
    }
   ],
   "source": [
    "[a,b,c] = {'ㅁ':1,\"ㅂ\":2,\"ㅅ\":3}\n",
    "\n",
    "print(a)\n",
    "print(b)\n",
    "print(c)"
   ]
  },
  {
   "cell_type": "markdown",
   "metadata": {},
   "source": [
    "####  딕셔너리에서 값을 넘기려면 실제 값을 별도로 처리해서 변수에 할당해야 한다.\n",
    "\n"
   ]
  },
  {
   "cell_type": "code",
   "execution_count": 16,
   "metadata": {
    "collapsed": false
   },
   "outputs": [
    {
     "name": "stdout",
     "output_type": "stream",
     "text": [
      "1\n",
      "2\n",
      "3\n"
     ]
    }
   ],
   "source": [
    "[a,b,c] = [x for x in {'ㅁ':1,\"ㅂ\":2,\"ㅅ\":3}.values()]\n",
    "\n",
    "print(a)\n",
    "print(b)\n",
    "print(c)"
   ]
  },
  {
   "cell_type": "code",
   "execution_count": 11,
   "metadata": {
    "collapsed": false
   },
   "outputs": [
    {
     "name": "stdout",
     "output_type": "stream",
     "text": [
      "ㅁ\n",
      "['ㅂ', 'ㅅ']\n"
     ]
    }
   ],
   "source": [
    "[a,*b] = {'ㅁ':1,\"ㅂ\":2,\"ㅅ\":3}\n",
    "\n",
    "print(a)\n",
    "print(b)\n"
   ]
  },
  {
   "cell_type": "code",
   "execution_count": 12,
   "metadata": {
    "collapsed": false
   },
   "outputs": [
    {
     "name": "stdout",
     "output_type": "stream",
     "text": [
      "ㅅ\n",
      "ㅂ\n",
      "ㅁ\n"
     ]
    }
   ],
   "source": [
    "[a,b,c] = list({'ㅁ',\"ㅂ\",\"ㅅ\"})\n",
    "\n",
    "print(a)\n",
    "print(b)\n",
    "print(c)"
   ]
  },
  {
   "cell_type": "code",
   "execution_count": 13,
   "metadata": {
    "collapsed": false
   },
   "outputs": [
    {
     "name": "stdout",
     "output_type": "stream",
     "text": [
      "ㅅ\n",
      "ㅂ\n",
      "ㅁ\n"
     ]
    }
   ],
   "source": [
    "[a,b,c] = {'ㅁ',\"ㅂ\",\"ㅅ\"}\n",
    "\n",
    "print(a)\n",
    "print(b)\n",
    "print(c)"
   ]
  },
  {
   "cell_type": "markdown",
   "metadata": {},
   "source": [
    "#### 원소의 개수와 변수의 개수가 같아도 *가 붙은 변수는 리스트로 처리된다.\n",
    "\n"
   ]
  },
  {
   "cell_type": "code",
   "execution_count": 18,
   "metadata": {
    "collapsed": false
   },
   "outputs": [
    {
     "name": "stdout",
     "output_type": "stream",
     "text": [
      "ㅅ\n",
      "['ㅂ']\n",
      "ㅁ\n"
     ]
    }
   ],
   "source": [
    "a,*b,c = {'ㅁ',\"ㅂ\",\"ㅅ\"}\n",
    "\n",
    "print(a)\n",
    "print(b)\n",
    "print(c)"
   ]
  },
  {
   "cell_type": "code",
   "execution_count": null,
   "metadata": {
    "collapsed": true
   },
   "outputs": [],
   "source": []
  }
 ],
 "metadata": {
  "kernelspec": {
   "display_name": "Python 3",
   "language": "python",
   "name": "python3"
  },
  "language_info": {
   "codemirror_mode": {
    "name": "ipython",
    "version": 3
   },
   "file_extension": ".py",
   "mimetype": "text/x-python",
   "name": "python",
   "nbconvert_exporter": "python",
   "pygments_lexer": "ipython3",
   "version": "3.6.0"
  }
 },
 "nbformat": 4,
 "nbformat_minor": 2
}
