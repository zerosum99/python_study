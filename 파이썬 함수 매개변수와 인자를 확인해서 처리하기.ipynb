{
 "cells": [
  {
   "cell_type": "markdown",
   "metadata": {},
   "source": [
    "# 함수 내부의 매개변수와 인자와 매칭여부를 확인하기\n",
    "\n"
   ]
  },
  {
   "cell_type": "code",
   "execution_count": 1,
   "metadata": {
    "collapsed": true
   },
   "outputs": [],
   "source": [
    "import inspect"
   ]
  },
  {
   "cell_type": "code",
   "execution_count": 3,
   "metadata": {},
   "outputs": [
    {
     "name": "stdout",
     "output_type": "stream",
     "text": [
      "Help on function getcallargs in module inspect:\n",
      "\n",
      "getcallargs(*func_and_positional, **named)\n",
      "    Get the mapping of arguments to values.\n",
      "    \n",
      "    A dict is returned, with keys the function argument names (including the\n",
      "    names of the * and ** arguments, if any), and values the respective bound\n",
      "    values from 'positional' and 'named'.\n",
      "\n"
     ]
    }
   ],
   "source": [
    "help(inspect.getcallargs)"
   ]
  },
  {
   "cell_type": "markdown",
   "metadata": {},
   "source": [
    "## 함수를 넣고 인자를 넣어서 매칭여부를 딕셔너리로 받아 확인하기\n"
   ]
  },
  {
   "cell_type": "code",
   "execution_count": 2,
   "metadata": {},
   "outputs": [
    {
     "name": "stdout",
     "output_type": "stream",
     "text": [
      "{'x': 5, 'y': 5}\n"
     ]
    }
   ],
   "source": [
    "def func(x,y) :\n",
    "    return x+y\n",
    "\n",
    "a = inspect.getcallargs(func,5,5)\n",
    "\n",
    "print(a)"
   ]
  },
  {
   "cell_type": "code",
   "execution_count": 4,
   "metadata": {},
   "outputs": [
    {
     "data": {
      "text/plain": [
       "('x', 'y')"
      ]
     },
     "execution_count": 4,
     "metadata": {},
     "output_type": "execute_result"
    }
   ],
   "source": [
    "func.__code__.co_varnames"
   ]
  },
  {
   "cell_type": "code",
   "execution_count": 5,
   "metadata": {},
   "outputs": [
    {
     "data": {
      "text/plain": [
       "()"
      ]
     },
     "execution_count": 5,
     "metadata": {},
     "output_type": "execute_result"
    }
   ],
   "source": [
    "func.__code__.co_cellvars"
   ]
  },
  {
   "cell_type": "markdown",
   "metadata": {},
   "source": [
    "# 데코레이터를 이용해서 처리할 때 실제 함수의 인자를 확인\n",
    "\n",
    "    데코레이터 내부에 함수에 전달되는 인자중에 특정 값이나 자료형을 체크을 경우를 사용 해서 "
   ]
  },
  {
   "cell_type": "code",
   "execution_count": 38,
   "metadata": {},
   "outputs": [],
   "source": [
    "def decorator(func) :\n",
    "    def wrapper(*args, **kwargs) :\n",
    "        a = inspect.getcallargs(func,*args, **kwargs)\n",
    "        \n",
    "        print(func.__code__.co_varnames[0], a.get(func.__code__.co_varnames[0]))\n",
    "        print(func.__code__.co_varnames[1], a.get(func.__code__.co_varnames[1]))\n",
    "        print(a)\n",
    "        return func(*args, **kwargs)\n",
    "        \n",
    "    return wrapper\n"
   ]
  },
  {
   "cell_type": "code",
   "execution_count": 36,
   "metadata": {},
   "outputs": [],
   "source": [
    "@decorator\n",
    "def add(x,y) :\n",
    "    return x+y"
   ]
  },
  {
   "cell_type": "code",
   "execution_count": 37,
   "metadata": {},
   "outputs": [
    {
     "name": "stdout",
     "output_type": "stream",
     "text": [
      "x 5\n",
      "x 5\n",
      "{'x': 5, 'y': 5}\n"
     ]
    },
    {
     "data": {
      "text/plain": [
       "10"
      ]
     },
     "execution_count": 37,
     "metadata": {},
     "output_type": "execute_result"
    }
   ],
   "source": [
    "add(5,5)"
   ]
  },
  {
   "cell_type": "code",
   "execution_count": 48,
   "metadata": {},
   "outputs": [
    {
     "name": "stdout",
     "output_type": "stream",
     "text": [
      "Help on class Signature in module inspect:\n",
      "\n",
      "class Signature(builtins.object)\n",
      " |  A Signature object represents the overall signature of a function.\n",
      " |  It stores a Parameter object for each parameter accepted by the\n",
      " |  function, as well as information specific to the function itself.\n",
      " |  \n",
      " |  A Signature object has the following public attributes and methods:\n",
      " |  \n",
      " |  * parameters : OrderedDict\n",
      " |      An ordered mapping of parameters' names to the corresponding\n",
      " |      Parameter objects (keyword-only arguments are in the same order\n",
      " |      as listed in `code.co_varnames`).\n",
      " |  * return_annotation : object\n",
      " |      The annotation for the return type of the function if specified.\n",
      " |      If the function has no annotation for its return type, this\n",
      " |      attribute is set to `Signature.empty`.\n",
      " |  * bind(*args, **kwargs) -> BoundArguments\n",
      " |      Creates a mapping from positional and keyword arguments to\n",
      " |      parameters.\n",
      " |  * bind_partial(*args, **kwargs) -> BoundArguments\n",
      " |      Creates a partial mapping from positional and keyword arguments\n",
      " |      to parameters (simulating 'functools.partial' behavior.)\n",
      " |  \n",
      " |  Methods defined here:\n",
      " |  \n",
      " |  __eq__(self, other)\n",
      " |      Return self==value.\n",
      " |  \n",
      " |  __hash__(self)\n",
      " |      Return hash(self).\n",
      " |  \n",
      " |  __init__(self, parameters=None, *, return_annotation, __validate_parameters__=True)\n",
      " |      Constructs Signature from the given list of Parameter\n",
      " |      objects and 'return_annotation'.  All arguments are optional.\n",
      " |  \n",
      " |  __reduce__(self)\n",
      " |      helper for pickle\n",
      " |  \n",
      " |  __repr__(self)\n",
      " |      Return repr(self).\n",
      " |  \n",
      " |  __setstate__(self, state)\n",
      " |  \n",
      " |  __str__(self)\n",
      " |      Return str(self).\n",
      " |  \n",
      " |  bind(*args, **kwargs)\n",
      " |      Get a BoundArguments object, that maps the passed `args`\n",
      " |      and `kwargs` to the function's signature.  Raises `TypeError`\n",
      " |      if the passed arguments can not be bound.\n",
      " |  \n",
      " |  bind_partial(*args, **kwargs)\n",
      " |      Get a BoundArguments object, that partially maps the\n",
      " |      passed `args` and `kwargs` to the function's signature.\n",
      " |      Raises `TypeError` if the passed arguments can not be bound.\n",
      " |  \n",
      " |  replace(self, *, parameters=<class 'inspect._void'>, return_annotation=<class 'inspect._void'>)\n",
      " |      Creates a customized copy of the Signature.\n",
      " |      Pass 'parameters' and/or 'return_annotation' arguments\n",
      " |      to override them in the new copy.\n",
      " |  \n",
      " |  ----------------------------------------------------------------------\n",
      " |  Class methods defined here:\n",
      " |  \n",
      " |  from_builtin(func) from builtins.type\n",
      " |      Constructs Signature for the given builtin function.\n",
      " |  \n",
      " |  from_callable(obj, *, follow_wrapped=True) from builtins.type\n",
      " |      Constructs Signature for the given callable object.\n",
      " |  \n",
      " |  from_function(func) from builtins.type\n",
      " |      Constructs Signature for the given python function.\n",
      " |  \n",
      " |  ----------------------------------------------------------------------\n",
      " |  Data descriptors defined here:\n",
      " |  \n",
      " |  parameters\n",
      " |  \n",
      " |  return_annotation\n",
      " |  \n",
      " |  ----------------------------------------------------------------------\n",
      " |  Data and other attributes defined here:\n",
      " |  \n",
      " |  empty = <class 'inspect._empty'>\n",
      " |      Marker object for Signature.empty and Parameter.empty.\n",
      "\n"
     ]
    }
   ],
   "source": [
    "help(inspect.Signature)"
   ]
  },
  {
   "cell_type": "code",
   "execution_count": 81,
   "metadata": {},
   "outputs": [],
   "source": [
    "def decorator1(func) :\n",
    "    def wrapper(*args, **kwargs) :\n",
    "        a = inspect.getcallargs(func,*args, **kwargs)\n",
    "        \n",
    "        b = inspect.signature(func)\n",
    "        print(type(b))\n",
    "        print(type(b.parameters['x']))\n",
    "\n",
    "        for i in func.__code__.co_varnames :\n",
    "            print(b.parameters[i], a.get(i))\n",
    "            \n",
    "        print(a)\n",
    "    \n",
    "        return func(*args, **kwargs)\n",
    "        \n",
    "    return wrapper"
   ]
  },
  {
   "cell_type": "code",
   "execution_count": 82,
   "metadata": {
    "collapsed": true
   },
   "outputs": [],
   "source": [
    "@decorator1\n",
    "def add(x,y) :\n",
    "    return x+y"
   ]
  },
  {
   "cell_type": "code",
   "execution_count": 83,
   "metadata": {},
   "outputs": [
    {
     "name": "stdout",
     "output_type": "stream",
     "text": [
      "<class 'inspect.Signature'>\n",
      "<class 'inspect.Parameter'>\n",
      "x 5\n",
      "y 5\n",
      "{'x': 5, 'y': 5}\n"
     ]
    },
    {
     "data": {
      "text/plain": [
       "10"
      ]
     },
     "execution_count": 83,
     "metadata": {},
     "output_type": "execute_result"
    }
   ],
   "source": [
    "add(5,5)"
   ]
  },
  {
   "cell_type": "markdown",
   "metadata": {},
   "source": [
    "# 함수가 호출될 때 함수가 실행되는 frame을 리턴해서 내부 구조를 보기\n"
   ]
  },
  {
   "cell_type": "code",
   "execution_count": 23,
   "metadata": {},
   "outputs": [
    {
     "name": "stdout",
     "output_type": "stream",
     "text": [
      "Help on function currentframe in module inspect:\n",
      "\n",
      "currentframe()\n",
      "    Return the frame of the caller or None if this is not possible.\n",
      "\n"
     ]
    }
   ],
   "source": [
    "help(inspect.currentframe)"
   ]
  },
  {
   "cell_type": "code",
   "execution_count": 7,
   "metadata": {},
   "outputs": [
    {
     "name": "stdout",
     "output_type": "stream",
     "text": [
      "Help on function getframeinfo in module inspect:\n",
      "\n",
      "getframeinfo(frame, context=1)\n",
      "    Get information about a frame or traceback object.\n",
      "    \n",
      "    A tuple of five things is returned: the filename, the line number of\n",
      "    the current line, the function name, a list of lines of context from\n",
      "    the source code, and the index of the current line within that list.\n",
      "    The optional second argument specifies the number of lines of context\n",
      "    to return, which are centered around the current line.\n",
      "\n"
     ]
    }
   ],
   "source": [
    "help(inspect.getframeinfo)"
   ]
  },
  {
   "cell_type": "code",
   "execution_count": 11,
   "metadata": {},
   "outputs": [
    {
     "name": "stdout",
     "output_type": "stream",
     "text": [
      "<frame object at 0x110f0e828>\n",
      "Traceback(filename='<ipython-input-11-a7664d232616>', lineno=3, function='add', code_context=['    return frame\\n'], index=0)\n"
     ]
    }
   ],
   "source": [
    "def add(x,y) :\n",
    "    frame = inspect.currentframe()\n",
    "    return frame\n",
    "\n",
    "a = add(5,5)\n",
    "print(a)\n",
    "print(inspect.getframeinfo(a))"
   ]
  },
  {
   "cell_type": "markdown",
   "metadata": {},
   "source": [
    "## frame 객체 내부의 속성을 확인하기\n",
    "\n"
   ]
  },
  {
   "cell_type": "code",
   "execution_count": 24,
   "metadata": {},
   "outputs": [
    {
     "data": {
      "text/plain": [
       "frame"
      ]
     },
     "execution_count": 24,
     "metadata": {},
     "output_type": "execute_result"
    }
   ],
   "source": [
    "type(a)"
   ]
  },
  {
   "cell_type": "code",
   "execution_count": 10,
   "metadata": {},
   "outputs": [
    {
     "data": {
      "text/plain": [
       "{'frame': <frame at 0x110fedd68>, 'x': 5, 'y': 5}"
      ]
     },
     "execution_count": 10,
     "metadata": {},
     "output_type": "execute_result"
    }
   ],
   "source": [
    "a.f_locals"
   ]
  },
  {
   "cell_type": "code",
   "execution_count": 12,
   "metadata": {},
   "outputs": [
    {
     "data": {
      "text/plain": [
       "<frame at 0x110f0e438>"
      ]
     },
     "execution_count": 12,
     "metadata": {},
     "output_type": "execute_result"
    }
   ],
   "source": [
    "a.f_back"
   ]
  },
  {
   "cell_type": "code",
   "execution_count": 18,
   "metadata": {},
   "outputs": [
    {
     "data": {
      "text/plain": [
       "module"
      ]
     },
     "execution_count": 18,
     "metadata": {},
     "output_type": "execute_result"
    }
   ],
   "source": [
    "type(__builtins__)"
   ]
  },
  {
   "cell_type": "code",
   "execution_count": 17,
   "metadata": {},
   "outputs": [
    {
     "data": {
      "text/plain": [
       "dict"
      ]
     },
     "execution_count": 17,
     "metadata": {},
     "output_type": "execute_result"
    }
   ],
   "source": [
    "type(a.f_builtins)"
   ]
  },
  {
   "cell_type": "code",
   "execution_count": 19,
   "metadata": {},
   "outputs": [
    {
     "data": {
      "text/plain": [
       "<code object add at 0x110fd7ed0, file \"<ipython-input-11-a7664d232616>\", line 1>"
      ]
     },
     "execution_count": 19,
     "metadata": {},
     "output_type": "execute_result"
    }
   ],
   "source": [
    "a.f_code"
   ]
  },
  {
   "cell_type": "code",
   "execution_count": 21,
   "metadata": {},
   "outputs": [
    {
     "data": {
      "text/plain": [
       "dict"
      ]
     },
     "execution_count": 21,
     "metadata": {},
     "output_type": "execute_result"
    }
   ],
   "source": [
    "type(a.f_globals)"
   ]
  },
  {
   "cell_type": "code",
   "execution_count": 22,
   "metadata": {
    "collapsed": true
   },
   "outputs": [],
   "source": []
  },
  {
   "cell_type": "code",
   "execution_count": null,
   "metadata": {
    "collapsed": true
   },
   "outputs": [],
   "source": []
  }
 ],
 "metadata": {
  "kernelspec": {
   "display_name": "Python 3",
   "language": "python",
   "name": "python3"
  },
  "language_info": {
   "codemirror_mode": {
    "name": "ipython",
    "version": 3
   },
   "file_extension": ".py",
   "mimetype": "text/x-python",
   "name": "python",
   "nbconvert_exporter": "python",
   "pygments_lexer": "ipython3",
   "version": "3.6.1"
  }
 },
 "nbformat": 4,
 "nbformat_minor": 2
}
