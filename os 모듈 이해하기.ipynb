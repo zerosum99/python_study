{
 "cells": [
  {
   "cell_type": "code",
   "execution_count": 1,
   "metadata": {
    "collapsed": true
   },
   "outputs": [],
   "source": [
    "import os"
   ]
  },
  {
   "cell_type": "code",
   "execution_count": 4,
   "metadata": {},
   "outputs": [
    {
     "name": "stdout",
     "output_type": "stream",
     "text": [
      "get_blocking\n",
      "get_exec_path\n",
      "get_inheritable\n",
      "get_terminal_size\n",
      "getcwd\n",
      "getcwdb\n",
      "getegid\n",
      "getenv\n",
      "getenvb\n",
      "geteuid\n",
      "getgid\n",
      "getgrouplist\n",
      "getgroups\n",
      "getloadavg\n",
      "getlogin\n",
      "getpgid\n",
      "getpgrp\n",
      "getpid\n",
      "getppid\n",
      "getpriority\n",
      "getsid\n",
      "getuid\n"
     ]
    }
   ],
   "source": [
    "for i in dir(os) :\n",
    "    if i.startswith(\"g\") :\n",
    "        print(i)"
   ]
  },
  {
   "cell_type": "markdown",
   "metadata": {},
   "source": [
    "## 현재 환경을 조회하기"
   ]
  },
  {
   "cell_type": "code",
   "execution_count": 9,
   "metadata": {},
   "outputs": [
    {
     "data": {
      "text/plain": [
       "environ({'TERM_PROGRAM': 'Apple_Terminal', 'TERM': 'xterm-color', 'SHELL': '/bin/bash', 'TMPDIR': '/var/folders/n1/cmjcsydn16g4700_hz9tlf3m0000gn/T/', 'Apple_PubSub_Socket_Render': '/private/tmp/com.apple.launchd.2g6aDEij1Z/Render', 'TERM_PROGRAM_VERSION': '388.1.1', 'TERM_SESSION_ID': 'F96AC3E7-8A3F-4E05-AAEF-F6E4105CC918', 'USER': 'dahlmoon', 'SSH_AUTH_SOCK': '/private/tmp/com.apple.launchd.i6xZjgFWd3/Listeners', '__CF_USER_TEXT_ENCODING': '0x1F5:0x3:0x33', 'CONDA_ROOT': '/Users/dahlmoon/anaconda', 'PATH': '/Users/dahlmoon/anaconda/bin:/Users/dahlmoon/anaconda/bin:/usr/local/bin:/usr/bin:/bin:/usr/sbin:/sbin', 'CONDA_PATH_BACKUP': '/usr/bin:/bin:/usr/sbin:/sbin', 'CONDA_PREFIX': '/Users/dahlmoon/anaconda', 'STANFORD_MODELS': '/Users/dahlmoon//stanford-postagger/models:/Users/dahlmoon//stanford-ner/classifiers', 'PWD': '/Users/dahlmoon', 'JAVA_HOME': '/Library/Java/JavaVirtualMachines/jdk1.8.0_144.jdk/Contens/Home', 'LANG': 'ko_KR.UTF-8', 'XPC_FLAGS': '0x0', 'STANFORDTOOLSDIR': '/Users/dahlmoon/', 'XPC_SERVICE_NAME': '0', 'SHLVL': '4', 'HOME': '/Users/dahlmoon/', 'CONDA_PS1_BACKUP': '', 'LOGNAME': 'dahlmoon', 'CLASSPATH': '/Users/dahlmoon//stanford-postagger/stanford-postagger.jar:/Users/dahlmoon//stanford-ner/stanford-ner.jar:/Users/dahlmoon//stanford-parser/stanford-parser.jar:/Users/dahlmoon//stanford-parser/stanford-parser-3.8.0-models.jar', 'CONDA_DEFAULT_ENV': '/Users/dahlmoon/anaconda', '_': '/Users/dahlmoon/anaconda/bin/jupyter-notebook', 'JPY_PARENT_PID': '66036', 'CLICOLOR': '1', 'PAGER': 'cat', 'GIT_PAGER': 'cat', 'MPLBACKEND': 'module://ipykernel.pylab.backend_inline'})"
      ]
     },
     "execution_count": 9,
     "metadata": {},
     "output_type": "execute_result"
    }
   ],
   "source": [
    "os.environ"
   ]
  },
  {
   "cell_type": "code",
   "execution_count": 6,
   "metadata": {},
   "outputs": [
    {
     "name": "stdout",
     "output_type": "stream",
     "text": [
      "Help on function getenv in module os:\n",
      "\n",
      "getenv(key, default=None)\n",
      "    Get an environment variable, return None if it doesn't exist.\n",
      "    The optional second argument can specify an alternate default.\n",
      "    key, default and the result are str.\n",
      "\n"
     ]
    }
   ],
   "source": [
    "help(os.getenv)"
   ]
  },
  {
   "cell_type": "code",
   "execution_count": 10,
   "metadata": {},
   "outputs": [
    {
     "name": "stdout",
     "output_type": "stream",
     "text": [
      "/Users/dahlmoon/\n"
     ]
    }
   ],
   "source": [
    "print(os.getenv('HOME'))"
   ]
  },
  {
   "cell_type": "markdown",
   "metadata": {},
   "source": [
    "## 디렉토리를 만들고 조회하기 "
   ]
  },
  {
   "cell_type": "code",
   "execution_count": 16,
   "metadata": {},
   "outputs": [
    {
     "name": "stdout",
     "output_type": "stream",
     "text": [
      "lchflags\n",
      "lchmod\n",
      "lchown\n",
      "linesep\n",
      "link\n",
      "listdir\n",
      "lockf\n",
      "lseek\n",
      "lstat\n",
      "major\n",
      "makedev\n",
      "makedirs\n",
      "minor\n",
      "mkdir\n",
      "mkfifo\n",
      "mknod\n"
     ]
    }
   ],
   "source": [
    "for i in dir(os) :\n",
    "    if i.startswith(\"m\") or i.startswith(\"l\") :\n",
    "        print(i)"
   ]
  },
  {
   "cell_type": "code",
   "execution_count": 14,
   "metadata": {},
   "outputs": [],
   "source": [
    "os.mkdir(\"ostest\")"
   ]
  },
  {
   "cell_type": "code",
   "execution_count": 15,
   "metadata": {},
   "outputs": [
    {
     "data": {
      "text/plain": [
       "['.DS_Store',\n",
       " '.git',\n",
       " '.ipynb_checkpoints',\n",
       " '__pycache__',\n",
       " 'a.py',\n",
       " 'add.py',\n",
       " 'adoc.py',\n",
       " 'adoc1.py',\n",
       " 'adoc2.py',\n",
       " 'adoc3.py',\n",
       " 'doc_test.py',\n",
       " 'doc_test.txt',\n",
       " 'double_space.py',\n",
       " 'double_space.txt',\n",
       " 'Foo.py',\n",
       " 'os 모듈 이해하기.ipynb',\n",
       " 'ostest',\n",
       " 'README.md',\n",
       " 'this_raises.py',\n",
       " 'unpredictable.py',\n",
       " '변수에 대한 패킹과 언패킹 처리.ipynb',\n",
       " '파이썬  인스턴스 메소드와 클래스 메소드 __self__ 이해하기.ipynb',\n",
       " '파이썬 doctest  실행해보기.ipynb',\n",
       " '파이썬 함수 매개변수와 인자를 확인해서 처리하기.ipynb',\n",
       " '함수 정의 및 함수 실행.ipynb',\n",
       " '함수 표현식 lambda.ipynb',\n",
       " '함수는 왜 객체일까 .ipynb']"
      ]
     },
     "execution_count": 15,
     "metadata": {},
     "output_type": "execute_result"
    }
   ],
   "source": [
    "os.listdir()"
   ]
  },
  {
   "cell_type": "code",
   "execution_count": 17,
   "metadata": {},
   "outputs": [
    {
     "name": "stdout",
     "output_type": "stream",
     "text": [
      "12\n"
     ]
    }
   ],
   "source": [
    "def cdata(x) :\n",
    "    str_x = str(x)\n",
    "    result = 0\n",
    "    \n",
    "    for elem in str_x :\n",
    "        result += int(elem)\n",
    "        \n",
    "    return result\n",
    "\n",
    "print(cdata(345))"
   ]
  },
  {
   "cell_type": "code",
   "execution_count": null,
   "metadata": {
    "collapsed": true
   },
   "outputs": [],
   "source": []
  }
 ],
 "metadata": {
  "kernelspec": {
   "display_name": "Python 3",
   "language": "python",
   "name": "python3"
  },
  "language_info": {
   "codemirror_mode": {
    "name": "ipython",
    "version": 3
   },
   "file_extension": ".py",
   "mimetype": "text/x-python",
   "name": "python",
   "nbconvert_exporter": "python",
   "pygments_lexer": "ipython3",
   "version": "3.6.1"
  }
 },
 "nbformat": 4,
 "nbformat_minor": 2
}
